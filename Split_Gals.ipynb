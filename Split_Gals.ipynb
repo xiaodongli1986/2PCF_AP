{
 "metadata": {
  "name": "",
  "signature": "sha256:c3e8c8d191ecfb00a64b28e7656d0f06b219d52290d552921d369488b39a4027"
 },
 "nbformat": 3,
 "nbformat_minor": 0,
 "worksheets": [
  {
   "cells": [
    {
     "cell_type": "code",
     "collapsed": false,
     "input": [
      "execfile('/home/xiaodongli/software/pythonlib/stdA.py')\n",
      "execfile('/home/xiaodongli/software/pythonlib/Tpcftools.py')\n",
      "execfile('/home/xiaodongli/software/pythonlib/bossdatamock.py')"
     ],
     "language": "python",
     "metadata": {},
     "outputs": [
      {
       "output_type": "stream",
       "stream": "stderr",
       "text": [
        "/home/xiaodongli/software/pythonlib/Tpcftools_smuintxi.py:532: SyntaxWarning: name 'oms' is assigned to before global declaration\n",
        "  global oms, ws, omws, scanname\n",
        "/home/xiaodongli/software/pythonlib/Tpcftools_smuintxi.py:532: SyntaxWarning: name 'ws' is assigned to before global declaration\n",
        "  global oms, ws, omws, scanname\n",
        "/home/xiaodongli/software/pythonlib/Tpcftools_smuintxi.py:532: SyntaxWarning: name 'omws' is assigned to before global declaration\n",
        "  global oms, ws, omws, scanname\n",
        "/home/xiaodongli/software/pythonlib/Tpcftools_smuintxi.py:532: SyntaxWarning: name 'scanname' is assigned to before global declaration\n",
        "  global oms, ws, omws, scanname\n",
        "/home/xiaodongli/software/pythonlib/Tpcftools_smuintxi.py:532: SyntaxWarning: name 'oms' is assigned to before global declaration\n",
        "  global oms, ws, omws, scanname\n"
       ]
      },
      {
       "output_type": "stream",
       "stream": "stderr",
       "text": [
        "/home/xiaodongli/software/pythonlib/Tpcftools_smuintxi.py:532: SyntaxWarning: name 'ws' is assigned to before global declaration\n",
        "  global oms, ws, omws, scanname\n",
        "/home/xiaodongli/software/pythonlib/Tpcftools_smuintxi.py:532: SyntaxWarning: name 'omws' is assigned to before global declaration\n",
        "  global oms, ws, omws, scanname\n",
        "/home/xiaodongli/software/pythonlib/Tpcftools_smuintxi.py:532: SyntaxWarning: name 'scanname' is assigned to before global declaration\n",
        "  global oms, ws, omws, scanname\n"
       ]
      }
     ],
     "prompt_number": 1
    },
    {
     "cell_type": "code",
     "collapsed": false,
     "input": [
      "# How many CMASS/LOWZ bins if using thickness 130Mpc/h\n",
      "print (1787.35459967 - 1172) / 130, (1172.73941192 - 436) / 130 ## WMAP5\n",
      "print (1746.03534656 - 1154.82987696) / 130, (1154.82987696 - 433.622164839) / 130 ##Planck"
     ],
     "language": "python",
     "metadata": {},
     "outputs": [
      {
       "output_type": "stream",
       "stream": "stdout",
       "text": [
        "4.73349692054 5.66722624554\n",
        "4.54773438154 5.5477516317\n"
       ]
      }
     ],
     "prompt_number": 21
    },
    {
     "cell_type": "code",
     "collapsed": false,
     "input": [
      "# We use WMAP5; start from 0.43, go to low/high redshift, having 5/4 bins:\n",
      "z0 = 0.43;\n",
      "zedges = [];\n",
      "redges = []; # WMAP5 cosmology\n",
      "redges_planck = []; # Plank cosmology, only used by Patchy mocks\n",
      "\n",
      "r0 = comov_r(0.26, -1, 0.7, z0);\n",
      "for row in range(-5, 1):\n",
      "    nowr = r0 + row*130\n",
      "    nowz = get_z(0.26, -1, 0.7, nowr)\n",
      "    nowr_planck = comov_r(0.307115, -1, 0.7, nowz)\n",
      "    redges.append(nowr); zedges.append(nowz); redges_planck.append(nowr_planck)\n",
      "print 'Split LOWZ:'\n",
      "print zedges\n",
      "print redges\n",
      "print redges_planck\n",
      "\n",
      "z0 = 0.43;\n",
      "zedges = [];\n",
      "redges = []; # WMAP5 cosmology\n",
      "redges_planck = []; # Plank cosmology, only used by Patchy mocks\n",
      "\n",
      "r0 = comov_r(0.26, -1, 0.7, z0);\n",
      "for row in range(5):\n",
      "    nowr = r0 + row*130\n",
      "    nowz = get_z(0.26, -1, 0.7, nowr)\n",
      "    nowr_planck = comov_r(0.307115, -1, 0.7, nowz)\n",
      "    redges.append(nowr); zedges.append(nowz); redges_planck.append(nowr_planck)\n",
      "print 'Split CMASS:'\n",
      "print zedges\n",
      "print redges\n",
      "print redges_planck"
     ],
     "language": "python",
     "metadata": {},
     "outputs": [
      {
       "output_type": "stream",
       "stream": "stdout",
       "text": [
        "Split LOWZ:\n",
        "[0.1810289959902259, 0.22842485114282932, 0.27692779474144735, 0.3266269757779644, 0.3776173232786967, 0.43000000008725003]\n",
        "[522.73941192235, 652.73941192235, 782.73941192235, 912.73941192235, 1042.73941192235, 1172.73941192235]\n",
        "[519.4268694491702, 647.5506611709578, 775.250670121428, 902.5284408107407, 1029.3875627236737, 1155.8335476337638]\n",
        "Split CMASS:\n",
        "[0.43000000008725003, 0.4838829069777673, 0.5393812361978597, 0.5966180907199915, 0.6557251658747054]\n",
        "[1172.73941192235, 1302.73941192235, 1432.73941192235, 1562.73941192235, 1692.73941192235]\n",
        "[1155.8335476337638, 1281.8736905851347, 1407.5169039728164, 1532.7735533548646, 1657.6552749580446]\n"
       ]
      }
     ],
     "prompt_number": 30
    }
   ],
   "metadata": {}
  }
 ]
}