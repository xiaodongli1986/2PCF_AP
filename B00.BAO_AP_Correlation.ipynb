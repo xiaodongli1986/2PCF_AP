{
 "metadata": {
  "name": "",
  "signature": "sha256:7d8fc62785464ed631ed74503557adec89fbb384424c0e6686824fd530969915"
 },
 "nbformat": 3,
 "nbformat_minor": 0,
 "worksheets": [
  {
   "cells": [
    {
     "cell_type": "raw",
     "metadata": {},
     "source": [
      "Ideas for overcoming the problem of small-s dependence & wrong rlt when using contour:\n",
      "\n",
      "    1. A dense CF measurement?\n",
      "        We need to do that for both data & mock! (manybe deltas 0.2; deltamu 1/120)?\n",
      "    2. Accurate SF applied to BOSS data?\n",
      "        We need to make better mocks!\n",
      "    3. Careful check of Likelihoods in all redshift bins\n",
      "        "
     ]
    },
    {
     "cell_type": "raw",
     "metadata": {},
     "source": [
      "1. Check consistency between PY & Fortran\n",
      "2. Check red-evolv in case of using two Ys\n",
      "3. Design a good binning scheme\n",
      "4. Check cosmo constraint using smax = 8, 10, 15, 20, 25, 30, 35"
     ]
    },
    {
     "cell_type": "code",
     "collapsed": false,
     "input": [
      "execfile('/home/xiaodongli/software/pythonlib/stdA.py')\n",
      "execfile('/home/xiaodongli/software/pythonlib/Tpcftools.py')\n",
      "execfile('/home/xiaodongli/software/pythonlib/bossdatamock.py')\n",
      "execfile('/home/xiaodongli/software/pythonlib/Tpcftools_ChisqContour.py')\n",
      "%pylab inline"
     ],
     "language": "python",
     "metadata": {},
     "outputs": [
      {
       "output_type": "stream",
       "stream": "stderr",
       "text": [
        "/home/xiaodongli/software/pythonlib/Tpcftools_smuintxi.py:536: SyntaxWarning: name 'oms' is assigned to before global declaration\n",
        "  global oms, ws, omws, scanname\n",
        "/home/xiaodongli/software/pythonlib/Tpcftools_smuintxi.py:536: SyntaxWarning: name 'ws' is assigned to before global declaration\n",
        "  global oms, ws, omws, scanname\n",
        "/home/xiaodongli/software/pythonlib/Tpcftools_smuintxi.py:536: SyntaxWarning: name 'omws' is assigned to before global declaration\n",
        "  global oms, ws, omws, scanname\n",
        "/home/xiaodongli/software/pythonlib/Tpcftools_smuintxi.py:536: SyntaxWarning: name 'scanname' is assigned to before global declaration\n",
        "  global oms, ws, omws, scanname\n",
        "/home/xiaodongli/software/pythonlib/Tpcftools_smuintxi.py:536: SyntaxWarning: name 'oms' is assigned to before global declaration\n",
        "  global oms, ws, omws, scanname\n"
       ]
      },
      {
       "output_type": "stream",
       "stream": "stderr",
       "text": [
        "/home/xiaodongli/software/pythonlib/Tpcftools_smuintxi.py:536: SyntaxWarning: name 'ws' is assigned to before global declaration\n",
        "  global oms, ws, omws, scanname\n",
        "/home/xiaodongli/software/pythonlib/Tpcftools_smuintxi.py:536: SyntaxWarning: name 'omws' is assigned to before global declaration\n",
        "  global oms, ws, omws, scanname\n",
        "/home/xiaodongli/software/pythonlib/Tpcftools_smuintxi.py:536: SyntaxWarning: name 'scanname' is assigned to before global declaration\n",
        "  global oms, ws, omws, scanname\n",
        "WARNING: "
       ]
      },
      {
       "output_type": "stream",
       "stream": "stdout",
       "text": [
        "Populating the interactive namespace from numpy and matplotlib\n"
       ]
      },
      {
       "output_type": "stream",
       "stream": "stderr",
       "text": [
        "pylab import has clobbered these variables: ['copy']\n",
        "`%matplotlib` prevents importing * from pylab and numpy\n"
       ]
      }
     ],
     "prompt_number": 2
    },
    {
     "cell_type": "heading",
     "level": 4,
     "metadata": {},
     "source": [
      "### Check CF between small scale and large scale"
     ]
    },
    {
     "cell_type": "code",
     "collapsed": false,
     "input": [
      "def get_cov(X, Y):\n",
      "    Xbar, Ybar = sum(X)/float(len(X)), sum(Y)/float(len(Y))\n",
      "    sigXY = sum([(X[row]-Xbar)*(Y[row]-Ybar) for row in range(len(X))])\n",
      "    sigXX = sum([(X[row]-Xbar)**2.0 for row in range(len(X))])\n",
      "    sigYY = sum([(Y[row]-Ybar)**2.0 for row in range(len(X))])\n",
      "    return sigXY / np.sqrt(sigXX) / np.sqrt(sigYY), sigXY, sigXX, sigYY"
     ],
     "language": "python",
     "metadata": {},
     "outputs": []
    },
    {
     "cell_type": "code",
     "collapsed": false,
     "input": [
      "randrats = []\n",
      "for irand in range(1000000):\n",
      "    X= [random.uniform(-1,1) for row in range(72)]\n",
      "    Y= [random.uniform(-1,1) for row in range(72)]\n",
      "    coeff = get_cov(X,Y)[0]\n",
      "    randrats.append(coeff)\n",
      "plt.hist(randrats, bins=100, range=(-0.4,0.4))"
     ],
     "language": "python",
     "metadata": {},
     "outputs": [
      {
       "metadata": {},
       "output_type": "pyout",
       "prompt_number": 78,
       "text": [
        "(array([    84.,    113.,    160.,    201.,    209.,    251.,    387.,\n",
        "           411.,    450.,    614.,    778.,    934.,   1050.,   1275.,\n",
        "          1555.,   1719.,   2071.,   2453.,   2927.,   3410.,   3827.,\n",
        "          4353.,   4955.,   5470.,   6302.,   6926.,   7826.,   8575.,\n",
        "          9592.,  10391.,  11457.,  12556.,  13530.,  14587.,  15708.,\n",
        "         16839.,  18011.,  19039.,  19754.,  20808.,  21740.,  22558.,\n",
        "         23675.,  24678.,  25159.,  25293.,  25755.,  26702.,  26718.,\n",
        "         26455.,  26469.,  26514.,  26365.,  25842.,  25497.,  24929.,\n",
        "         24218.,  23353.,  22892.,  22086.,  20658.,  19796.,  18978.,\n",
        "         17800.,  16900.,  15742.,  14687.,  13520.,  12771.,  11427.,\n",
        "         10433.,   9596.,   8398.,   7726.,   6965.,   6266.,   5602.,\n",
        "          4975.,   4308.,   3801.,   3259.,   2889.,   2412.,   2121.,\n",
        "          1761.,   1441.,   1195.,   1091.,    900.,    777.,    571.,\n",
        "           518.,    390.,    329.,    289.,    207.,    180.,    139.,\n",
        "           110.,     86.]),\n",
        " array([-0.4  , -0.392, -0.384, -0.376, -0.368, -0.36 , -0.352, -0.344,\n",
        "        -0.336, -0.328, -0.32 , -0.312, -0.304, -0.296, -0.288, -0.28 ,\n",
        "        -0.272, -0.264, -0.256, -0.248, -0.24 , -0.232, -0.224, -0.216,\n",
        "        -0.208, -0.2  , -0.192, -0.184, -0.176, -0.168, -0.16 , -0.152,\n",
        "        -0.144, -0.136, -0.128, -0.12 , -0.112, -0.104, -0.096, -0.088,\n",
        "        -0.08 , -0.072, -0.064, -0.056, -0.048, -0.04 , -0.032, -0.024,\n",
        "        -0.016, -0.008,  0.   ,  0.008,  0.016,  0.024,  0.032,  0.04 ,\n",
        "         0.048,  0.056,  0.064,  0.072,  0.08 ,  0.088,  0.096,  0.104,\n",
        "         0.112,  0.12 ,  0.128,  0.136,  0.144,  0.152,  0.16 ,  0.168,\n",
        "         0.176,  0.184,  0.192,  0.2  ,  0.208,  0.216,  0.224,  0.232,\n",
        "         0.24 ,  0.248,  0.256,  0.264,  0.272,  0.28 ,  0.288,  0.296,\n",
        "         0.304,  0.312,  0.32 ,  0.328,  0.336,  0.344,  0.352,  0.36 ,\n",
        "         0.368,  0.376,  0.384,  0.392,  0.4  ]),\n",
        " <a list of 100 Patch objects>)"
       ]
      },
      {
       "metadata": {},
       "output_type": "display_data",
       "png": "[encoded data removed]",
       "text": [
        "<matplotlib.figure.Figure at 0x7f9656c614d0>"
       ]
      }
     ],
     "prompt_number": 78
    },
    {
     "cell_type": "code",
     "collapsed": false,
     "input": [
      "for sranges in [\n",
      "        [6,40, 8,30],\n",
      "        [6,40, 20,60],\n",
      "        [6,40, 40,80],\n",
      "        [6,40, 80,120],\n",
      "        [6,40, 100,120],\n",
      "        [6,40, 100,150],\n",
      "        ]:\n",
      "    Y1s = []\n",
      "    Y2s = []\n",
      "    s1, s2, s3, s4 = sranges\n",
      "    print '* s1, s2, s3, s4 = ', s1, s2, '; ', s3, s4\n",
      "    for imock in range(71):\n",
      "        for catname in ['CMASS']:#, 'CMASS']:\n",
      "            for ibin in [1]:#,2,3]:\n",
      "                ### Plot data result\n",
      "                #ax = fig.add_subplot(2,6, iplot); ax1 = fig1.add_subplot(2,6, iplot); ax2=fig2.add_subplot(2,6, iplot);\n",
      "                smufile = '/home/xiaodongli/SparseFilaments/data/input/boss2pcf/data/DR12v4-'+catname+\\\n",
      "                  '/xyzw.binsplitted/HR3.RSD.%03i'%imock+'.xyzw.'+str(ibin)+'of3.rmax150.150rbins.120mubins.2pcf'\n",
      "                data = smu__loadin(smufile, smusettings_sample)\n",
      "                Y1s.append([sum([data[ir][imu][9] for ir in range(s1,s2)]) for imu in range(120)])\n",
      "                Y2s.append([sum([data[ir][imu][9] for ir in range(s3,s4)]) for imu in range(120)])\n",
      "                #Y2s.append([sum([data[ir][imu][9] for ir in range(100,120)]) for imu in range(120)])\n",
      "#    np.savetxt('./datfiles/intxi_s6to40.txt', Y1s)\n",
      "#    np.savetxt('./datfiles/intxi_s100to120.txt', Y2s)\n",
      "#else:\n",
      "#    Y1s = np.loadtxt('./datfiles/intxi_s6to40.txt')\n",
      "#    Y2s = np.loadtxt('./datfiles/intxi_s100to120.txt')\n",
      "    Y1s = [normto1(X) for X in Y1s]\n",
      "    Y2s = [normto1(X) for X in Y2s]\n",
      "    for mus in [\n",
      "            [10,20,20,30],\n",
      "            [10,20,30,40],\n",
      "            [10,20,40,50],\n",
      "            [10,20,50,60],\n",
      "            [10,20,60,70],\n",
      "            [10,20,70,80],\n",
      "            [10,20,80,90],\n",
      "            [10,20,90,100],\n",
      "            [10,20,100,110],\n",
      "            [10,20,110,120],\n",
      "        ]:\n",
      "        mu1, mu2, mu3, mu4 = mus\n",
      "        rat1s = [sum(X[mu1:mu2])/sum(X[mu3:mu4]) for X in Y1s]\n",
      "        rat2s = [sum(X[mu1:mu2])/sum(X[mu3:mu4]) for X in Y2s]\n",
      "        rlt = get_cov(rat1s, rat2s)\n",
      "        print '*** mus = ', mu1, '-', mu2, '; ', mu3, '-', mu4\n",
      "        print '    result of correlation : coeff, Cov, Var_s1tos2, Var_s3tos4 = ', rlt"
     ],
     "language": "python",
     "metadata": {},
     "outputs": [
      {
       "output_type": "stream",
       "stream": "stdout",
       "text": [
        "* s1, s2, s3, s4 =  6 40 ;  8 30\n",
        "*** mus = "
       ]
      },
      {
       "output_type": "stream",
       "stream": "stdout",
       "text": [
        " 10 - 20 ;  20 - 30\n",
        "    result of correlation : coeff, Cov, Var_s1tos2, Var_s3tos4 =  (0.73804017571213165, 0.010710619927530106, 0.013330904367126382, 0.015798272360058645)\n",
        "*** mus =  10 - 20 ;  30 - 40\n",
        "    result of correlation : coeff, Cov, Var_s1tos2, Var_s3tos4 =  (0.84463113283182745, 0.012981030433299137, 0.01420304679925734, 0.016630398174195492)\n",
        "*** mus =  10 - 20 ;  40 - 50\n",
        "    result of correlation : coeff, Cov, Var_s1tos2, Var_s3tos4 =  (0.90460933158339585, 0.014913765618231219, 0.015360584977044164, 0.017694762786570697)\n",
        "*** mus =  10 - 20 ;  50 - 60\n",
        "    result of correlation : coeff, Cov, Var_s1tos2, Var_s3tos4 =  (0.89893681748359699, 0.014355919842405997, 0.014388779276430648, 0.017724735488479384)\n",
        "*** mus =  10 - 20 ;  60 - 70\n",
        "    result of correlation : coeff, Cov, Var_s1tos2, Var_s3tos4 =  (0.89439044696194614, 0.013348076639834405, 0.013115753630049267, 0.016982038817473951)\n",
        "*** mus =  10 - 20 ;  70 - 80\n",
        "    result of correlation : coeff, Cov, Var_s1tos2, Var_s3tos4 =  (0.91642504180728956, 0.014817218727685939, 0.014497039799513851, 0.018032675040132316)\n",
        "*** mus =  10 - 20 ;  80 - 90\n",
        "    result of correlation : coeff, Cov, Var_s1tos2, Var_s3tos4 =  (0.92589526799139765, 0.016477789629491466, 0.015756986649549803, 0.020100229299237968)\n",
        "*** mus =  10 - 20 ;  90 - 100\n",
        "    result of correlation : coeff, Cov, Var_s1tos2, Var_s3tos4 =  (0.94140167088189408, 0.015632469623180104, 0.014504011402320891, 0.019011532433094495)\n",
        "*** mus =  10 - 20 ;  100 - 110\n",
        "    result of correlation : coeff, Cov, Var_s1tos2, Var_s3tos4 =  (0.94174550319167072, 0.016453739225733895, 0.015722515143142258, 0.019415120389743769)\n",
        "*** mus =  10 - 20 ;  110 - 120\n",
        "    result of correlation : coeff, Cov, Var_s1tos2, Var_s3tos4 =  (0.94836173876975871, 0.016195939106915164, 0.015508077254510935, 0.018806425859581994)\n",
        "* s1, s2, s3, s4 =  6 40 ;  20 60\n",
        "*** mus = "
       ]
      },
      {
       "output_type": "stream",
       "stream": "stdout",
       "text": [
        " 10 - 20 ;  20 - 30\n",
        "    result of correlation : coeff, Cov, Var_s1tos2, Var_s3tos4 =  (0.40027716088349902, 0.01731548494326841, 0.013330904367126382, 0.14037445519751951)\n",
        "*** mus =  10 - 20 ;  30 - 40\n",
        "    result of correlation : coeff, Cov, Var_s1tos2, Var_s3tos4 =  (0.41407576193344475, 0.018633942312680538, 0.01420304679925734, 0.14258319952227044)\n",
        "*** mus =  10 - 20 ;  40 - 50\n",
        "    result of correlation : coeff, Cov, Var_s1tos2, Var_s3tos4 =  (0.51142279824032966, 0.023784201868048284, 0.015360584977044164, 0.14080213530427338)\n",
        "*** mus =  10 - 20 ;  50 - 60\n",
        "    result of correlation : coeff, Cov, Var_s1tos2, Var_s3tos4 =  (0.56543768047823717, 0.025174614384402588, 0.014388779276430648, 0.13776287915852445)\n",
        "*** mus =  10 - 20 ;  60 - 70\n",
        "    result of correlation : coeff, Cov, Var_s1tos2, Var_s3tos4 =  (0.65133828024909501, 0.026831558675559114, 0.013115753630049267, 0.12938542230581165)\n",
        "*** mus =  10 - 20 ;  70 - 80\n",
        "    result of correlation : coeff, Cov, Var_s1tos2, Var_s3tos4 =  (0.65388853570334105, 0.027733148859850398, 0.014497039799513851, 0.12408280085374819)\n",
        "*** mus =  10 - 20 ;  80 - 90\n",
        "    result of correlation : coeff, Cov, Var_s1tos2, Var_s3tos4 =  (0.66952130378591435, 0.028120266882341372, 0.015756986649549803, 0.11195330218706066)\n",
        "*** mus =  10 - 20 ;  90 - 100\n",
        "    result of correlation : coeff, Cov, Var_s1tos2, Var_s3tos4 =  (0.65527487137050022, 0.025671462156748794, 0.014504011402320891, 0.10581958410680392)\n",
        "*** mus =  10 - 20 ;  100 - 110\n",
        "    result of correlation : coeff, Cov, Var_s1tos2, Var_s3tos4 =  (0.64834804330439033, 0.026152097370825484, 0.015722515143142258, 0.1034843362508957)\n",
        "*** mus =  10 - 20 ;  110 - 120\n",
        "    result of correlation : coeff, Cov, Var_s1tos2, Var_s3tos4 =  (0.651285156061848, 0.025437487292754232, 0.015508077254510935, 0.098366700358422224)\n",
        "* s1, s2, s3, s4 =  6 40 ;  40 80\n",
        "*** mus = "
       ]
      },
      {
       "output_type": "stream",
       "stream": "stdout",
       "text": [
        " 10 - 20 ;  20 - 30\n",
        "    result of correlation : coeff, Cov, Var_s1tos2, Var_s3tos4 =  (0.067779722876510115, 0.03807654213403476, 0.013330904367126382, 23.673137071524703)\n",
        "*** mus =  10 - 20 ;  30 - 40\n",
        "    result of correlation : coeff, Cov, Var_s1tos2, Var_s3tos4 =  (0.15428839652299112, 0.036973904717029979, 0.01420304679925734, 4.0433616368047325)\n",
        "*** mus =  10 - 20 ;  40 - 50\n",
        "    result of correlation : coeff, Cov, Var_s1tos2, Var_s3tos4 =  (0.21461139597655815, 0.039295534378245837, 0.015360584977044164, 2.1825946380784567)\n",
        "*** mus =  10 - 20 ;  50 - 60\n",
        "    result of correlation : coeff, Cov, Var_s1tos2, Var_s3tos4 =  (0.21083608355249758, 0.031221978940222762, 0.014388779276430648, 1.5240773954081386)\n",
        "*** mus =  10 - 20 ;  60 - 70\n",
        "    result of correlation : coeff, Cov, Var_s1tos2, Var_s3tos4 =  (0.36236156838266537, 0.045435871283462125, 0.013115753630049267, 1.198726784876909)\n",
        "*** mus =  10 - 20 ;  70 - 80\n",
        "    result of correlation : coeff, Cov, Var_s1tos2, Var_s3tos4 =  (0.38418256859385147, 0.045982249159680993, 0.014497039799513851, 0.98815660493269997)\n",
        "*** mus =  10 - 20 ;  80 - 90\n",
        "    result of correlation : coeff, Cov, Var_s1tos2, Var_s3tos4 =  (0.34810471095180345, 0.039610270853239357, 0.015756986649549803, 0.82171772625941508)\n",
        "*** mus =  10 - 20 ;  90 - 100\n",
        "    result of correlation : coeff, Cov, Var_s1tos2, Var_s3tos4 =  (0.34476503680534853, 0.035815551721899291, 0.014504011402320891, 0.74406131439448875)\n",
        "*** mus =  10 - 20 ;  100 - 110\n",
        "    result of correlation : coeff, Cov, Var_s1tos2, Var_s3tos4 =  (0.33603304675685364, 0.035456081346034611, 0.015722515143142258, 0.70810142638927143)\n",
        "*** mus =  10 - 20 ;  110 - 120\n",
        "    result of correlation : coeff, Cov, Var_s1tos2, Var_s3tos4 =  (0.30282408966923402, 0.031485348057816775, 0.015508077254510935, 0.69707290267490063)\n",
        "* s1, s2, s3, s4 =  6 40 ;  80 120\n",
        "*** mus = "
       ]
      },
      {
       "output_type": "stream",
       "stream": "stdout",
       "text": [
        " 10 - 20 ;  20 - 30\n",
        "    result of correlation : coeff, Cov, Var_s1tos2, Var_s3tos4 =  (0.068609133556232549, 1.2091124609463764, 0.013330904367126382, 23297.531706794623)\n",
        "*** mus =  10 - 20 ;  30 - 40\n",
        "    result of correlation : coeff, Cov, Var_s1tos2, Var_s3tos4 =  (-0.015995416657167964, -0.071100924590378048, 0.01420304679925734, 1391.1625050060929)\n",
        "*** mus =  10 - 20 ;  40 - 50\n",
        "    result of correlation : coeff, Cov, Var_s1tos2, Var_s3tos4 =  (-0.057100346442376576, -0.56961748661626466, 0.015360584977044164, 6478.6032518747979)\n",
        "*** mus =  10 - 20 ;  50 - 60\n",
        "    result of correlation : coeff, Cov, Var_s1tos2, Var_s3tos4 =  (-0.040226932276275808, -0.07581836832226066, 0.014388779276430648, 246.88294442777558)\n",
        "*** mus =  10 - 20 ;  60 - 70\n",
        "    result of correlation : coeff, Cov, Var_s1tos2, Var_s3tos4 =  (0.047033920299333815, 0.034257169362597907, 0.013115753630049267, 40.44709560465607)\n",
        "*** mus =  10 - 20 ;  70 - 80\n",
        "    result of correlation : coeff, Cov, Var_s1tos2, Var_s3tos4 =  (0.099182431203590535, 0.057760650806857938, 0.014497039799513851, 23.394583903406915)\n",
        "*** mus =  10 - 20 ;  80 - 90\n",
        "    result of correlation : coeff, Cov, Var_s1tos2, Var_s3tos4 =  (0.075760795309488718, 0.039425205442585952, 0.015756986649549803, 17.186431560561033)\n",
        "*** mus =  10 - 20 ;  90 - 100\n",
        "    result of correlation : coeff, Cov, Var_s1tos2, Var_s3tos4 =  (0.048213039734547866, 0.022489302395085724, 0.014504011402320891, 15.001504209400613)\n",
        "*** mus =  10 - 20 ;  100 - 110\n",
        "    result of correlation : coeff, Cov, Var_s1tos2, Var_s3tos4 =  (0.079726709567923909, 0.041420902945713718, 0.015722515143142258, 17.167593492623073)\n",
        "*** mus =  10 - 20 ;  110 - 120\n",
        "    result of correlation : coeff, Cov, Var_s1tos2, Var_s3tos4 =  (0.068186411169435274, 0.036189660931476367, 0.015508077254510935, 18.164163669563742)\n",
        "* s1, s2, s3, s4 =  6 40 ;  100 120\n",
        "*** mus = "
       ]
      },
      {
       "output_type": "stream",
       "stream": "stdout",
       "text": [
        " 10 - 20 ;  20 - 30\n",
        "    result of correlation : coeff, Cov, Var_s1tos2, Var_s3tos4 =  (-0.12104189727412494, -0.86192658086648766, 0.013330904367126382, 3803.7283232028062)\n",
        "*** mus =  10 - 20 ;  30 - 40\n",
        "    result of correlation : coeff, Cov, Var_s1tos2, Var_s3tos4 =  (0.19922308371528982, 2.4073482760630158, 0.01420304679925734, 10280.565771381536)\n",
        "*** mus =  10 - 20 ;  40 - 50\n",
        "    result of correlation : coeff, Cov, Var_s1tos2, Var_s3tos4 =  (0.077913076333495798, 0.6209619203566521, 0.015360584977044164, 4135.2472053271104)\n",
        "*** mus =  10 - 20 ;  50 - 60\n",
        "    result of correlation : coeff, Cov, Var_s1tos2, Var_s3tos4 =  (0.051378082924751801, 0.41581895420113091, 0.014388779276430648, 4552.2784873926394)\n",
        "*** mus =  10 - 20 ;  60 - 70\n",
        "    result of correlation : coeff, Cov, Var_s1tos2, Var_s3tos4 =  (0.036514387259135604, 0.045958172353397428, 0.013115753630049267, 120.78255557886189)\n",
        "*** mus =  10 - 20 ;  70 - 80\n",
        "    result of correlation : coeff, Cov, Var_s1tos2, Var_s3tos4 =  (-0.0065043272839660875, -0.0045761121465518802, 0.014497039799513851, 34.143592558887484)\n",
        "*** mus =  10 - 20 ;  80 - 90\n",
        "    result of correlation : coeff, Cov, Var_s1tos2, Var_s3tos4 =  (-0.0044515584242785901, -0.0028300391417909569, 0.015756986649549803, 25.650011380224072)\n",
        "*** mus =  10 - 20 ;  90 - 100\n",
        "    result of correlation : coeff, Cov, Var_s1tos2, Var_s3tos4 =  (0.045890276209700202, 0.029673335885166983, 0.014504011402320891, 28.827253637489939)\n",
        "*** mus = "
       ]
      },
      {
       "output_type": "stream",
       "stream": "stdout",
       "text": [
        " 10 - 20 ;  100 - 110\n",
        "    result of correlation : coeff, Cov, Var_s1tos2, Var_s3tos4 =  (0.064702238267307963, 0.058564141003599655, 0.015722515143142258, 52.107822399074919)\n",
        "*** mus =  10 - 20 ;  110 - 120\n",
        "    result of correlation : coeff, Cov, Var_s1tos2, Var_s3tos4 =  (0.07886128187895157, 0.097846347186101301, 0.015508077254510935, 99.266706762865823)\n",
        "* s1, s2, s3, s4 =  6 40 ;  100 150\n",
        "*** mus = "
       ]
      },
      {
       "output_type": "stream",
       "stream": "stdout",
       "text": [
        " 10 - 20 ;  20 - 30\n",
        "    result of correlation : coeff, Cov, Var_s1tos2, Var_s3tos4 =  (-0.057140924983565954, -0.28335134107778476, 0.013330904367126382, 1844.5753443046378)\n",
        "*** mus =  10 - 20 ;  30 - 40\n",
        "    result of correlation : coeff, Cov, Var_s1tos2, Var_s3tos4 =  (0.084852198810270937, 4.5368501971918667, 0.01420304679925734, 201280.24815434436)\n",
        "*** mus =  10 - 20 ;  40 - 50\n",
        "    result of correlation : coeff, Cov, Var_s1tos2, Var_s3tos4 =  (-0.030097500676824471, -0.9485488516626287, 0.015360584977044164, 64662.245809056534)\n",
        "*** mus =  10 - 20 ;  50 - 60\n",
        "    result of correlation : coeff, Cov, Var_s1tos2, Var_s3tos4 =  (0.12862382969361302, 8.0984085338798977, 0.014388779276430648, 275506.93788270524)\n",
        "*** mus =  10 - 20 ;  60 - 70\n",
        "    result of correlation : coeff, Cov, Var_s1tos2, Var_s3tos4 =  (-0.11423432902795401, -0.36499532938572582, 0.013115753630049267, 778.37359309414842)\n",
        "*** mus =  10 - 20 ;  70 - 80\n",
        "    result of correlation : coeff, Cov, Var_s1tos2, Var_s3tos4 =  (-0.020879771181576533, -0.062299174146975618, 0.014497039799513851, 614.09247834042935)\n",
        "*** mus =  10 - 20 ;  80 - 90\n",
        "    result of correlation : coeff, Cov, Var_s1tos2, Var_s3tos4 =  (0.083559783329039822, 0.47159888943548378, 0.015756986649549803, 2021.5187320490111)\n",
        "*** mus =  10 - 20 ;  90 - 100\n",
        "    result of correlation : coeff, Cov, Var_s1tos2, Var_s3tos4 =  (0.052595885511416869, 0.19304945309272356, 0.014504011402320891, 928.84976598029721)\n",
        "*** mus =  10 - 20 ;  100 - 110\n",
        "    result of correlation : coeff, Cov, Var_s1tos2, Var_s3tos4 =  (0.08288061888765523, 1.5481493507898874, 0.015722515143142258, 22192.065089134154)\n",
        "*** mus =  10 - 20 ;  110 - 120\n",
        "    result of correlation : coeff, Cov, Var_s1tos2, Var_s3tos4 =  (0.020179643951399383, 0.16253615405013036, 0.015508077254510935, 4183.2614074315634)\n"
       ]
      }
     ],
     "prompt_number": 79
    },
    {
     "cell_type": "code",
     "collapsed": false,
     "input": [
      "rlts = []\n",
      "for mus in [\n",
      "            [10,20,20,30],\n",
      "            [10,20,30,40],\n",
      "            [10,20,40,50],\n",
      "            [10,20,50,60],\n",
      "            [10,20,60,70],\n",
      "            [10,20,70,80],\n",
      "            [10,20,80,90],\n",
      "            [10,20,90,100],\n",
      "            [10,20,100,110],\n",
      "            [10,20,110,120],\n",
      "        ]:\n",
      "        mu1, mu2, mu3, mu4 = mus\n",
      "        rat1s = [sum(X[mu1:mu2])/sum(X[mu3:mu4]) for X in Y1s]\n",
      "        rat2s = [sum(X[mu1:mu2])/sum(X[mu3:mu4]) for X in Y2s]\n",
      "        rlt = get_cov(rat1s, rat2s)\n",
      "        print '*** mus = ', mu1, '-', mu2, '; ', mu3, '-', mu4\n",
      "        print '    result of correlation : coeff, Cov, Var_s1tos2, Var_s3tos4 = ', rlt\n",
      "        rlts.append(rlt[0])\n",
      "plt.hist(randrats, bins=100, range=(-0.4,0.4), normed=True);\n",
      "plt.hist(rlt, range=(-0.4,0.4), bins=100);"
     ],
     "language": "python",
     "metadata": {},
     "outputs": [
      {
       "output_type": "stream",
       "stream": "stdout",
       "text": [
        "*** mus =  10 - 20 ;  20 - 30\n",
        "    result of correlation : coeff, Cov, Var_s1tos2, Var_s3tos4 =  (-0.057140924983565954, -0.28335134107778476, 0.013330904367126382, 1844.5753443046378)\n",
        "*** mus =  10 - 20 ;  30 - 40\n",
        "    result of correlation : coeff, Cov, Var_s1tos2, Var_s3tos4 =  (0.084852198810270937, 4.5368501971918667, 0.01420304679925734, 201280.24815434436)\n",
        "*** mus =  10 - 20 ;  40 - 50\n",
        "    result of correlation : coeff, Cov, Var_s1tos2, Var_s3tos4 =  (-0.030097500676824471, -0.9485488516626287, 0.015360584977044164, 64662.245809056534)\n",
        "*** mus =  10 - 20 ;  50 - 60\n",
        "    result of correlation : coeff, Cov, Var_s1tos2, Var_s3tos4 =  (0.12862382969361302, 8.0984085338798977, 0.014388779276430648, 275506.93788270524)\n",
        "*** mus =  10 - 20 ;  60 - 70\n",
        "    result of correlation : coeff, Cov, Var_s1tos2, Var_s3tos4 =  (-0.11423432902795401, -0.36499532938572582, 0.013115753630049267, 778.37359309414842)\n",
        "*** mus =  10 - 20 ;  70 - 80\n",
        "    result of correlation : coeff, Cov, Var_s1tos2, Var_s3tos4 =  (-0.020879771181576533, -0.062299174146975618, 0.014497039799513851, 614.09247834042935)\n",
        "*** mus =  10 - 20 ;  80 - 90\n",
        "    result of correlation : coeff, Cov, Var_s1tos2, Var_s3tos4 =  (0.083559783329039822, 0.47159888943548378, 0.015756986649549803, 2021.5187320490111)\n",
        "*** mus = "
       ]
      },
      {
       "output_type": "stream",
       "stream": "stdout",
       "text": [
        " 10 - 20 ;  90 - 100\n",
        "    result of correlation : coeff, Cov, Var_s1tos2, Var_s3tos4 =  (0.052595885511416869, 0.19304945309272356, 0.014504011402320891, 928.84976598029721)\n",
        "*** mus =  10 - 20 ;  100 - 110\n",
        "    result of correlation : coeff, Cov, Var_s1tos2, Var_s3tos4 =  (0.08288061888765523, 1.5481493507898874, 0.015722515143142258, 22192.065089134154)\n",
        "*** mus =  10 - 20 ;  110 - 120\n",
        "    result of correlation : coeff, Cov, Var_s1tos2, Var_s3tos4 =  (0.020179643951399383, 0.16253615405013036, 0.015508077254510935, 4183.2614074315634)\n"
       ]
      },
      {
       "metadata": {},
       "output_type": "display_data",
       "png": "[encoded data removed]",
       "text": [
        "<matplotlib.figure.Figure at 0x7f965688c450>"
       ]
      }
     ],
     "prompt_number": 88
    }
   ],
   "metadata": {}
  }
 ]
}