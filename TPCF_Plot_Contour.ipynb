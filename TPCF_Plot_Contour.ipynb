{
 "metadata": {
  "name": "",
  "signature": "sha256:e1339cfb5542559278ed78688bf207bb05bde90226a8b02552d0703bbfcc4f63"
 },
 "nbformat": 3,
 "nbformat_minor": 0,
 "worksheets": [
  {
   "cells": [
    {
     "cell_type": "code",
     "collapsed": false,
     "input": [
      "execfile('/home/xiaodongli/software/pythonlib/stdA.py')\n",
      "execfile('/home/xiaodongli/software/pythonlib/Tpcftools.py')\n",
      "execfile('/home/xiaodongli/software/pythonlib/Tpcftools_ChisqContour.py')\n",
      "%pylab inline"
     ],
     "language": "python",
     "metadata": {},
     "outputs": [
      {
       "output_type": "stream",
       "stream": "stderr",
       "text": [
        "/home/xiaodongli/software/pythonlib/Tpcftools_smuintxi.py:536: SyntaxWarning: name 'oms' is assigned to before global declaration\n",
        "  global oms, ws, omws, scanname\n",
        "/home/xiaodongli/software/pythonlib/Tpcftools_smuintxi.py:536: SyntaxWarning: name 'ws' is assigned to before global declaration\n",
        "  global oms, ws, omws, scanname\n",
        "/home/xiaodongli/software/pythonlib/Tpcftools_smuintxi.py:536: SyntaxWarning: name 'omws' is assigned to before global declaration\n",
        "  global oms, ws, omws, scanname\n",
        "/home/xiaodongli/software/pythonlib/Tpcftools_smuintxi.py:536: SyntaxWarning: name 'scanname' is assigned to before global declaration\n",
        "  global oms, ws, omws, scanname\n",
        "WARNING: "
       ]
      },
      {
       "output_type": "stream",
       "stream": "stdout",
       "text": [
        "Populating the interactive namespace from numpy and matplotlib\n"
       ]
      },
      {
       "output_type": "stream",
       "stream": "stderr",
       "text": [
        "pylab import has clobbered these variables: ['copy']\n",
        "`%matplotlib` prevents importing * from pylab and numpy\n"
       ]
      }
     ],
     "prompt_number": 2
    },
    {
     "cell_type": "code",
     "collapsed": false,
     "input": [],
     "language": "python",
     "metadata": {},
     "outputs": []
    }
   ],
   "metadata": {}
  }
 ]
}